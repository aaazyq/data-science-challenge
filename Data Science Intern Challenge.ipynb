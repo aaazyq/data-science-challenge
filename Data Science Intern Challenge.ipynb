{
 "cells": [
  {
   "cell_type": "markdown",
   "metadata": {},
   "source": [
    "by Yuqing Zhang"
   ]
  },
  {
   "cell_type": "markdown",
   "metadata": {},
   "source": [
    "# Question 1"
   ]
  },
  {
   "cell_type": "code",
   "execution_count": 1,
   "metadata": {},
   "outputs": [
    {
     "data": {
      "text/plain": [
       "count      5000.00\n",
       "mean       3145.13\n",
       "std       41282.54\n",
       "min          90.00\n",
       "25%         163.00\n",
       "50%         284.00\n",
       "75%         390.00\n",
       "max      704000.00\n",
       "Name: order_amount, dtype: float64"
      ]
     },
     "execution_count": 1,
     "metadata": {},
     "output_type": "execute_result"
    }
   ],
   "source": [
    "import pandas as pd\n",
    "import seaborn as sns\n",
    "import warnings\n",
    "warnings.filterwarnings('ignore')\n",
    "\n",
    "\n",
    "data = pd.read_csv('dataset.csv')\n",
    "# calculate average value for one piece of item\n",
    "data['item_value'] = data['order_amount']/data['total_items']\n",
    "data['order_amount'].describe().round(2)"
   ]
  },
  {
   "cell_type": "code",
   "execution_count": 5,
   "metadata": {},
   "outputs": [
    {
     "data": {
      "text/plain": [
       "<AxesSubplot:xlabel='order_amount', ylabel='Density'>"
      ]
     },
     "execution_count": 5,
     "metadata": {},
     "output_type": "execute_result"
    },
    {
     "data": {
      "image/png": "[encoded data removed]",
      "text/plain": [
       "<Figure size 432x288 with 1 Axes>"
      ]
     },
     "metadata": {
      "needs_background": "light"
     },
     "output_type": "display_data"
    }
   ],
   "source": [
    "sns.distplot(data['order_amount'])"
   ]
  },
  {
   "cell_type": "code",
   "execution_count": 6,
   "metadata": {},
   "outputs": [
    {
     "data": {
      "text/plain": [
       "<AxesSubplot:xlabel='item_value', ylabel='Density'>"
      ]
     },
     "execution_count": 6,
     "metadata": {},
     "output_type": "execute_result"
    },
    {
     "data": {
      "image/png": "[encoded data removed]",
      "text/plain": [
       "<Figure size 432x288 with 1 Axes>"
      ]
     },
     "metadata": {
      "needs_background": "light"
     },
     "output_type": "display_data"
    }
   ],
   "source": [
    "sns.distplot(data['item_value'])"
   ]
  },
  {
   "cell_type": "markdown",
   "metadata": {},
   "source": [
    "From the histogram we can see there exist outliers with extremely high order amount and extremely high item value.\n",
    "\n",
    "Also I used tableau to see the order amount for each order id. It is clear to see that there are some outliers produced by user 607 with each order amount of 704000 (the blue dots). "
   ]
  },
  {
   "cell_type": "code",
   "execution_count": null,
   "metadata": {},
   "outputs": [],
   "source": []
  },
  {
   "attachments": {},
   "cell_type": "markdown",
   "metadata": {},
   "source": [
    "<div>\n",
    "<img src=\"img.png\" width=\"500\"/>\n",
    "</div>"
   ]
  },
  {
   "cell_type": "markdown",
   "metadata": {},
   "source": [
    "1. Think about what could be going wrong with our calculation. Think about a better way to evaluate this data.\n",
    "\n",
    "    There are some outliers (order amount = 704,000), which drag the mean to an insanely large value. \n",
    "\n",
    "    It is better to evaluate the data by median, instead of mean. \n",
    "    \n",
    "    I also thought about using the trimmed mean (only truncate the right tails, i.e. the outliers), but it may be hard to control the percentage of trimming, which may need to change if we obtain more data. So overall I will choose to calculate the median of order amount. \n",
    "\n",
    "\n",
    "2. What metric would you report for this dataset?\n",
    "\n",
    "    I would choose median. This attribute is more robust. \n",
    "\n",
    "3. What is its value?\n",
    "\n",
    "    The value is \\$284."
   ]
  },
  {
   "cell_type": "markdown",
   "metadata": {},
   "source": [
    "# Question 2"
   ]
  },
  {
   "cell_type": "markdown",
   "metadata": {},
   "source": [
    "a. How many orders were shipped by Speedy Express in total?"
   ]
  },
  {
   "cell_type": "markdown",
   "metadata": {},
   "source": [
    "    SELECT COUNT(*) FROM [Orders] \n",
    "\n",
    "    WHERE ShipperID = \n",
    "\n",
    "    (SELECT ShipperID FROM [Shippers] WHERE ShipperName = 'Speedy Express')\n",
    "    "
   ]
  },
  {
   "cell_type": "markdown",
   "metadata": {},
   "source": [
    "a ans: 54\n",
    "\n",
    "b. What is the last name of the employee with the most orders?"
   ]
  },
  {
   "cell_type": "markdown",
   "metadata": {},
   "source": [
    "    SELECT LastName FROM [Employees]\n",
    "\n",
    "    WHERE EmployeeID = \n",
    "\n",
    "    (SELECT EmployeeID FROM [Orders]\n",
    "\n",
    "    group by EmployeeID order by COUNT(*) \n",
    "\n",
    "    DESC LIMIT 1)\n",
    "    "
   ]
  },
  {
   "cell_type": "markdown",
   "metadata": {},
   "source": [
    "b ans: Peacock\n",
    "\n",
    "c. What product was ordered the most by customers in Germany?"
   ]
  },
  {
   "cell_type": "markdown",
   "metadata": {},
   "source": [
    "    SELECT ProductName FROM Products\n",
    "\n",
    "    WHERE ProductID = \n",
    "\n",
    "    (SELECT ProductID FROM (\n",
    "\n",
    "    SELECT * FROM [Orders] o, [OrderDetails] od\n",
    "\n",
    "    WHERE o.OrderID = od.OrderID) \n",
    "\n",
    "    WHERE CustomerID IN (SELECT CustomerID FROM [Customers] WHERE Country = 'Germany') \n",
    "\n",
    "    GROUP BY ProductID ORDER BY SUM(Quantity) DESC LIMIT 1)\n",
    "    "
   ]
  },
  {
   "cell_type": "markdown",
   "metadata": {},
   "source": [
    "c ans: Boston Crab Meat"
   ]
  }
 ],
 "metadata": {
  "kernelspec": {
   "display_name": "Python 3",
   "language": "python",
   "name": "python3"
  },
  "language_info": {
   "codemirror_mode": {
    "name": "ipython",
    "version": 3
   },
   "file_extension": ".py",
   "mimetype": "text/x-python",
   "name": "python",
   "nbconvert_exporter": "python",
   "pygments_lexer": "ipython3",
   "version": "3.7.9"
  }
 },
 "nbformat": 4,
 "nbformat_minor": 4
}
